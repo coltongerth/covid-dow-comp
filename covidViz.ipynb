{
 "cells": [
  {
   "cell_type": "code",
   "execution_count": null,
   "metadata": {},
   "outputs": [],
   "source": [
    "!py -m pip install pandas --user\n",
    "!py -m pip install plotly --user\n",
    "!py -m pip install ipykernel --user\n",
    "!py -m pip install nbformat --user\n",
    "!py -m pip install itables --user\n",
    "!py -m pip install googlefinance --user"
   ]
  },
  {
   "cell_type": "code",
   "execution_count": 2,
   "metadata": {},
   "outputs": [],
   "source": [
    "import json\n",
    "import pandas as pd\n",
    "import numpy as np\n",
    "import plotly.express as px\n",
    "import plotly.graph_objects as go\n",
    "from plotly.subplots import make_subplots\n",
    "from dateutil.parser import parse\n",
    "from itables import init_notebook_mode\n"
   ]
  },
  {
   "cell_type": "markdown",
   "metadata": {},
   "source": [
    "Importing all data used for this notebook."
   ]
  },
  {
   "cell_type": "code",
   "execution_count": null,
   "metadata": {},
   "outputs": [],
   "source": [
    "init_notebook_mode(all_interactive=True)\n",
    "covid_data = pd.read_csv(\"https://raw.githubusercontent.com/CSSEGISandData/COVID-19/master/csse_covid_19_data/csse_covid_19_time_series/time_series_covid19_confirmed_global.csv\", index_col=0, on_bad_lines='skip')\n",
    "dowjones_data = pd.read_csv(\"data\\Dow Jones Industrial Average Historical Data.csv\")\n",
    "m2real_data = pd.read_csv(\"data\\M2REAL.csv\")"
   ]
  },
  {
   "cell_type": "markdown",
   "metadata": {},
   "source": [
    "Dropping unwanted columns and reshaping covid data from wide format to long format."
   ]
  },
  {
   "cell_type": "code",
   "execution_count": null,
   "metadata": {},
   "outputs": [],
   "source": [
    "us_data = covid_data[covid_data[\"Country/Region\"] == \"US\"]\n",
    "us_data = us_data.drop(columns = [\"Lat\",\"Long\"])\n",
    "us_data = us_data.melt(\"Country/Region\", var_name='Date', value_name='Covid Cases')\n",
    "us_data = us_data.drop(columns = \"Country/Region\")\n",
    "us_data[\"Date\"] = us_data[\"Date\"].apply(lambda x: parse(str(x)).strftime(\"%Y-%m-%d\"))\n",
    "us_data\n"
   ]
  },
  {
   "cell_type": "markdown",
   "metadata": {},
   "source": [
    "Retyping the dates of dowjones csv data to fit with covid data and later dictionary dates down in a lower code cell"
   ]
  },
  {
   "cell_type": "code",
   "execution_count": 7,
   "metadata": {},
   "outputs": [],
   "source": [
    "dowjones_data[\"Date\"] = dowjones_data[\"Date\"].apply(lambda x: parse(str(x)).strftime(\"%Y-%m-%d\"))\n",
    "dowjones_data = dowjones_data.sort_values(\"Date\",ascending=True)\n",
    "dowjones_data[\"Price\"] = dowjones_data[\"Price\"].str.replace(\",\",\"\").astype(\"float\")"
   ]
  },
  {
   "cell_type": "markdown",
   "metadata": {},
   "source": [
    "Quick column rename on m2real dataset"
   ]
  },
  {
   "cell_type": "code",
   "execution_count": 19,
   "metadata": {},
   "outputs": [
    {
     "data": {
      "text/plain": [
       "5943.6"
      ]
     },
     "execution_count": 19,
     "metadata": {},
     "output_type": "execute_result"
    }
   ],
   "source": [
    "m2real_data = m2real_data.rename(columns={\"DATE\":\"Date\"})"
   ]
  },
  {
   "cell_type": "markdown",
   "metadata": {},
   "source": [
    "Combining covid, dowjones, and m2real data, filling any na values of the dowjones data with a forwardfill, which are a result of the stock market not being open during the weekends, with the price that was last seen on the friday before every weekend. We also fill up the na values of the m2 data using interpolation, because of the fact that the data is updated monthly from the source, we need to use linear interpolation to make it consistant with our dates."
   ]
  },
  {
   "cell_type": "code",
   "execution_count": null,
   "metadata": {},
   "outputs": [],
   "source": [
    "merged_data = us_data.merge(dowjones_data[[\"Date\",\"Price\"]], on=[\"Date\"], how=\"left\")\n",
    "merged_data.ffill(inplace=True)\n",
    "merged_data = merged_data.merge(m2real_data,on=[\"Date\"],how=\"left\")\n",
    "# Performing this insert in order to line up January's M2 stock data with our dataset, as the M2 data is only monthly.\n",
    "merged_data.iloc[0,3] = m2real_data.iloc[0,1]\n",
    "# We need to interpolate the daily value due to our M2 data being only monthly\n",
    "merged_data.interpolate(inplace=True)\n",
    "merged_data"
   ]
  },
  {
   "cell_type": "markdown",
   "metadata": {},
   "source": [
    "Now we graph our datasets using plotly, and create a dictionary of important dates of covid's pandemic timeline. We use this dictionary to create markers to add onto our plot."
   ]
  },
  {
   "cell_type": "code",
   "execution_count": null,
   "metadata": {},
   "outputs": [],
   "source": [
    "\n",
    "big_fig =  make_subplots(specs=[[{\"secondary_y\": True}]])\n",
    "\n",
    "covid_fig = px.line(merged_data, x=\"Date\", y=[\"Covid Cases\"])\n",
    "covid_fig.update_traces(line_color='#FF0000')\n",
    "\n",
    "dowjones_fig = px.line(merged_data, x=\"Date\", y=[\"Price\"])\n",
    "dowjones_fig.update_traces(yaxis=\"y2\")\n",
    "\n",
    "m2real_fig = px.line(merged_data, x=\"Date\", y=['M2REAL'])\n",
    "m2real_fig.update_traces(yaxis=\"y3\", line_color=\"green\",)\n",
    "m2real_fig.update_layout(yaxis_visible=False, yaxis_showticklabels=False)\n",
    "\n",
    "\n",
    "important_dates = {\n",
    "    '2020-02-23': 'Italy becomes a global COVID-19 hotspot and issues Decree-law No. 6',\n",
    "    '2020-03-03': 'The WHO declares COVID-19 a pandemic',\n",
    "    '2020-03-15': 'U.S. Quarantine Shutdown begins.',\n",
    "    '2020-03-27': 'CARES Act was signed into law.',\n",
    "    '2020-04-03': 'The Paycheck Protection Program (PPP) enacted',\n",
    "    '2020-04-27': 'Over 1 million (1,000,000) US confirmed cases.',\n",
    "    '2020-04-30': 'U.S. launches Operation Warp Speed initiative to produce vaccinations.',\n",
    "    '2020-05-09': 'U.S. unemployment rate is 14.7%, the highest it has ever been since the Great Depression.',\n",
    "    '2020-06-10': \"Over 2 million US confirmed cases.\",\n",
    "    '2020-07-07': 'Over 3 million US confirmed cases.',\n",
    "    '2020-08-17': 'COVID-19 becomes 3rd leading cause of death in U.S.',\n",
    "    '2020-12-11': 'FDA issues an EUA for the Pfizer-BioNTech COVID-19 vaccine.',\n",
    "    '2020-12-18': 'FDA issues an EUA for the Moderna COVID-19 vaccine.',\n",
    "    '2020-12-29': 'The first case of the COVID-19 B.1.1.7 / “Alpha” variant is detected in the U.S. by the Colorado Department of Health.',\n",
    "    '2021-03-17': 'CDC announces $2.25 billion in spending over two years to address COVID-19 related health disparities for people living in rural areas and racial and ethnic minority groups.',\n",
    "    '2021-05-17': 'An estimated 5.1 million women left the workforce when COVID-19 closed schools and child-care centers in 2020. Today, 1.3 million remain out of the workforce and only 56% of women in the U.S. are working for a salary the lowest percentage since 1986.',\n",
    "    '2021-11-26': 'WHO designates the COVID-19 “Omicron” variant, first identified by scientists in South Africa, as a “variant of concern.”',\n",
    "    '2021-12-01': 'The first case of the Omicron variant in the U.S. is detected by the California and San Francisco Departments of Public Health.',\n",
    "    '2021-12-15': 'The recorded death toll from COVID-19 surpasses 800,000 in the U.S. One in every 100 people ages 65 years and older in the U.S. has died.',\n",
    "    '2022-01-01': 'As Delta and Omicron spread, New York state records its highest number of new COVID-19 cases in a single day since the pandemic began with 114,082 new confirmed cases.',\n",
    "    '2022-03-02': 'WHO releases data showing that the COVID-19 pandemic triggered a 25% increase in anxiety and depression worldwide, with young people and women at the highest risk.',\n",
    "    '2022-05-12': 'The number of recorded deaths due to COVID-19 in the U.S. reaches 1 million (1,000,000).'\n",
    "}\n",
    "\n",
    "big_fig.add_traces(covid_fig.data + dowjones_fig.data)\n",
    "\n",
    "for trace in m2real_fig.data:\n",
    "    trace.yaxis = 'y3'\n",
    "    big_fig.add_trace(trace)\n",
    "\n",
    "# Layout for the third axis (y3)\n",
    "big_fig.update_layout(\n",
    "    yaxis3=dict(\n",
    "        title=\"\",\n",
    "        overlaying=\"y\",\n",
    "        side=\"left\",\n",
    "        showgrid=False,\n",
    "        showticklabels=False,\n",
    "        position=0.05  \n",
    "    ),\n",
    "    yaxis=dict(\n",
    "        title=\"COVID Cases\"\n",
    "    ),\n",
    "    yaxis2=dict(\n",
    "        title=\"Dow Jones Price\"\n",
    "    )\n",
    ")\n",
    "    \n",
    "# big_fig.add_traces([covid_fig,dowjones_fig])\n",
    "for date, event in important_dates.items():\n",
    "    # Find the values for Covid Cases and Dow Jones Price on an important date\n",
    "    covid_cases = merged_data[merged_data['Date'] == date]['Covid Cases'].values[0]\n",
    "\n",
    "    dow_price = merged_data[merged_data['Date'] == date]['Price'].values[0]\n",
    "\n",
    "    # m2real_stock = merged_data[merged_data['Date'] == date]['M2REAL'].values[0]\n",
    "\n",
    "    # Add scatter plot for important dates for Covid Cases data line\n",
    "    big_fig.add_trace(go.Scatter(x = [date], y = [covid_cases], mode = 'markers', marker = dict(color = 'yellow', size=10, line = dict(width = 2, color = 'DarkSlateGrey')),\n",
    "                                name = event, hovertext = event, hoverinfo = 'text', showlegend=False))\n",
    "\n",
    "    # Add same important dates for Dow Jones data line\n",
    "    big_fig.add_trace(go.Scatter(x = [date], y = [dow_price], mode = 'markers', marker = dict(color = 'yellow', size = 10, line = dict(width = 2, color = 'DarkSlateGrey')),\n",
    "                                name = event, hovertext = event, hoverinfo = 'text', yaxis = 'y2', showlegend=False))\n",
    "\n",
    "    # And of course for the M2 data\n",
    "    # big_fig.add_trace(go.Scatter(x = [date], y = [m2real_stock], mode = 'markers', marker = dict(color = 'yellow', size = 10, line = dict(width = 2, color = 'DarkSlateGrey')),\n",
    "    #                             name = event, hovertext = event, hoverinfo = 'text', yaxis = 'y2', showlegend=False))\n",
    "\n",
    "\n",
    "big_fig.show()"
   ]
  },
  {
   "cell_type": "markdown",
   "metadata": {},
   "source": [
    "Sources:\n",
    "\n",
    "Covid Data:\n",
    "\n",
    "COVID-19 Data Repository by the Center for Systems Science and Engineering (CSSE) at Johns Hopkins University https://github.com/CSSEGISandData/COVID-19\n",
    "\n",
    "Covid Timeline info and dates:\n",
    "\n",
    "https://www.cdc.gov/museum/timeline/covid19.html\n",
    "\n",
    "Dowjones Data:\n",
    "\n",
    "https://www.investing.com/indices/us-30-historical-data\n",
    "\n",
    "M2 Real Money Stock:\n",
    "\n",
    "Federal Reserve Bank of St. Louis, Real M2 Money Stock [M2REAL], retrieved from FRED, Federal Reserve Bank of St. Louis; https://fred.stlouisfed.org/series/M2REAL, December 19, 2023.\n"
   ]
  }
 ],
 "metadata": {
  "kernelspec": {
   "display_name": "Python 3",
   "language": "python",
   "name": "python3"
  },
  "language_info": {
   "codemirror_mode": {
    "name": "ipython",
    "version": 3
   },
   "file_extension": ".py",
   "mimetype": "text/x-python",
   "name": "python",
   "nbconvert_exporter": "python",
   "pygments_lexer": "ipython3",
   "version": "3.11.3"
  }
 },
 "nbformat": 4,
 "nbformat_minor": 2
}
